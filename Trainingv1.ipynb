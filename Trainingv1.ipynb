{
  "nbformat": 4,
  "nbformat_minor": 0,
  "metadata": {
    "colab": {
      "provenance": [],
      "gpuType": "T4"
    },
    "kernelspec": {
      "name": "python3",
      "display_name": "Python 3"
    },
    "language_info": {
      "name": "python"
    },
    "accelerator": "GPU"
  },
  "cells": [
    {
      "cell_type": "code",
      "execution_count": null,
      "metadata": {
        "id": "J2-mUuKIUemL"
      },
      "outputs": [],
      "source": [
        "from google.colab import drive\n",
        "drive.mount('/content/drive', force_remount=True)"
      ]
    },
    {
      "cell_type": "code",
      "source": [
        "!git clone https://github.com/rmaphoh/RETFound_MAE.git\n",
        "%cd RETFound_MAE\n"
      ],
      "metadata": {
        "id": "RLXZGGsmUlfg"
      },
      "execution_count": null,
      "outputs": []
    },
    {
      "cell_type": "code",
      "source": [
        "!pip install -r requirement.txt\n"
      ],
      "metadata": {
        "id": "tnc3U5bcXMYH"
      },
      "execution_count": null,
      "outputs": []
    },
    {
      "cell_type": "code",
      "source": [
        "!pip install huggingface_hub\n",
        "!huggingface-cli login\n"
      ],
      "metadata": {
        "id": "DLeMF7e6XOjg"
      },
      "execution_count": null,
      "outputs": []
    },
    {
      "cell_type": "code",
      "source": [
        "!python -m torch.distributed.launch --nproc_per_node=1 --master_port=48798 main_finetune.py \\\n",
        "    --batch_size 16 \\\n",
        "    --world_size 1 \\\n",
        "    --model vit_large_patch16 \\\n",
        "    --epochs 80 \\\n",
        "    --blr 5e-3 \\\n",
        "    --layer_decay 0.65 \\\n",
        "    --weight_decay 0.05 \\\n",
        "    --drop_path 0.2 \\\n",
        "    --nb_classes 2 \\\n",
        "    --data_path \"/content/drive/MyDrive/EECE 490 Project/RETFound_Split_Augmented\" \\\n",
        "    --output_dir \"/content/drive/MyDrive/EECE 490 Project/DR_finetune\" \\\n",
        "    --finetune \"https://huggingface.co/open-eye/RETFound_MAE/resolve/main/RETFound_cfp.pth\" \\\n",
        "    --input_size 224\n"
      ],
      "metadata": {
        "id": "hkGj2rCmXRjM"
      },
      "execution_count": null,
      "outputs": []
    }
  ]
}