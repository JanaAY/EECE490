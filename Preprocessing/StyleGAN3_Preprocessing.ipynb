{
  "nbformat": 4,
  "nbformat_minor": 0,
  "metadata": {
    "colab": {
      "provenance": []
    },
    "kernelspec": {
      "name": "python3",
      "display_name": "Python 3"
    },
    "language_info": {
      "name": "python"
    }
  },
  "cells": [
    {
      "cell_type": "code",
      "execution_count": null,
      "metadata": {
        "colab": {
          "base_uri": "https://localhost:8080/"
        },
        "id": "CM9_lLBAZvRC",
        "outputId": "7de35b81-1e05-4d0a-ef60-b2599d8d31fd"
      },
      "outputs": [
        {
          "output_type": "stream",
          "name": "stdout",
          "text": [
            "Mounted at /content/drive\n"
          ]
        }
      ],
      "source": [
        "import shutil\n",
        "\n",
        "from google.colab import drive\n",
        "drive.mount('/content/drive', force_remount=True)\n"
      ]
    },
    {
      "cell_type": "code",
      "source": [
        "import os\n",
        "import shutil\n",
        "from tqdm import tqdm\n",
        "\n",
        "# === Source DR folders ===\n",
        "dr_folders = [\n",
        "    \"/content/drive/MyDrive/EECE 490 Project/Aptos/Unbalanced_Split_train/DR\",\n",
        "    \"/content/drive/MyDrive/EECE 490 Project/RandSet2/Unbalanced_Split/DR\",\n",
        "    \"/content/drive/MyDrive/EECE 490 Project/DDR dataset/Unbalanced_Split/DR\",\n",
        "    \"/content/drive/MyDrive/EECE 490 Project/Messidor2/Unbalanced_Split/DR\",\n",
        "    \"/content/drive/MyDrive/EECE 490 Project/EyePac/Unbalanced_Split/DR\"\n",
        "]\n",
        "\n",
        "# === Destination folder ===\n",
        "all_dr_dir = \"/content/drive/MyDrive/EECE 490 Project/All_DR_Images\"\n",
        "os.makedirs(all_dr_dir, exist_ok=True)\n",
        "\n",
        "# === Track names to avoid overwriting ===\n",
        "existing = set(os.listdir(all_dr_dir))\n",
        "conflict_counter = 0\n",
        "total_copied = 0\n",
        "\n",
        "# === Copy images from all folders ===\n",
        "for folder in dr_folders:\n",
        "    for fname in tqdm(os.listdir(folder), desc=f\"Processing {os.path.basename(folder)}\"):\n",
        "        src = os.path.join(folder, fname)\n",
        "        if not os.path.isfile(src):\n",
        "            continue\n",
        "\n",
        "        # If filename already exists, modify it to avoid overwrite\n",
        "        target_name = fname\n",
        "        while target_name in existing:\n",
        "            name, ext = os.path.splitext(fname)\n",
        "            conflict_counter += 1\n",
        "            target_name = f\"{name}_dup{conflict_counter}{ext}\"\n",
        "\n",
        "        dst = os.path.join(all_dr_dir, target_name)\n",
        "        shutil.copy2(src, dst)\n",
        "        existing.add(target_name)\n",
        "        total_copied += 1\n",
        "\n",
        "print(f\"\\n✅ Done! Total images copied to All_DR_Images: {total_copied}\")\n"
      ],
      "metadata": {
        "colab": {
          "base_uri": "https://localhost:8080/"
        },
        "id": "_qhqbIVwbPNc",
        "outputId": "f0ac83ed-1bca-4d3f-b565-7db900979314"
      },
      "execution_count": null,
      "outputs": [
        {
          "output_type": "stream",
          "name": "stderr",
          "text": [
            "Processing DR: 100%|██████████| 258/258 [00:08<00:00, 30.53it/s]\n",
            "Processing DR: 100%|██████████| 227/227 [00:06<00:00, 33.80it/s]\n",
            "Processing DR: 100%|██████████| 5485/5485 [03:29<00:00, 26.18it/s]\n",
            "Processing DR: 100%|██████████| 212/212 [00:05<00:00, 41.69it/s]\n",
            "Processing DR: 100%|██████████| 6335/6335 [07:04<00:00, 14.94it/s]"
          ]
        },
        {
          "output_type": "stream",
          "name": "stdout",
          "text": [
            "\n",
            "✅ Done! Total images copied to All_DR_Images: 12517\n"
          ]
        },
        {
          "output_type": "stream",
          "name": "stderr",
          "text": [
            "\n"
          ]
        }
      ]
    },
    {
      "cell_type": "code",
      "source": [
        "import os\n",
        "import shutil\n",
        "from tqdm import tqdm\n",
        "\n",
        "# === Source DR folders ===\n",
        "dr_folders = [\n",
        "    \"/content/drive/MyDrive/EECE 490 Project/Aptos/Unbalanced_Split_train/NoDR\",\n",
        "    \"/content/drive/MyDrive/EECE 490 Project/RandSet2/Unbalanced_Split/NoDR\",\n",
        "    \"/content/drive/MyDrive/EECE 490 Project/DDR dataset/Unbalanced_Split/NoDR\",\n",
        "    \"/content/drive/MyDrive/EECE 490 Project/Messidor2/Unbalanced_Split/NoDR\",\n",
        "    \"/content/drive/MyDrive/EECE 490 Project/EyePac/Unbalanced_Split/NoDR\"\n",
        "]\n",
        "\n",
        "# === Destination folder ===\n",
        "all_dr_dir = \"/content/drive/MyDrive/EECE 490 Project/All_NoDR_Images\"\n",
        "os.makedirs(all_dr_dir, exist_ok=True)\n",
        "\n",
        "# === Track names to avoid overwriting ===\n",
        "existing = set(os.listdir(all_dr_dir))\n",
        "conflict_counter = 0\n",
        "total_copied = 0\n",
        "\n",
        "# === Copy images from all folders ===\n",
        "for folder in dr_folders:\n",
        "    for fname in tqdm(os.listdir(folder), desc=f\"Processing {os.path.basename(folder)}\"):\n",
        "        src = os.path.join(folder, fname)\n",
        "        if not os.path.isfile(src):\n",
        "            continue\n",
        "\n",
        "        # If filename already exists, modify it to avoid overwrite\n",
        "        target_name = fname\n",
        "        while target_name in existing:\n",
        "            name, ext = os.path.splitext(fname)\n",
        "            conflict_counter += 1\n",
        "            target_name = f\"{name}_dup{conflict_counter}{ext}\"\n",
        "\n",
        "        dst = os.path.join(all_dr_dir, target_name)\n",
        "        shutil.copy2(src, dst)\n",
        "        existing.add(target_name)\n",
        "        total_copied += 1\n",
        "\n",
        "print(f\"\\n✅ Done! Total images copied to All_DR_Images: {total_copied}\")\n"
      ],
      "metadata": {
        "colab": {
          "base_uri": "https://localhost:8080/"
        },
        "id": "aGa1JvdVeiAX",
        "outputId": "2b08cda0-35e1-4358-8a8f-476b92c402cd"
      },
      "execution_count": null,
      "outputs": [
        {
          "output_type": "stream",
          "name": "stderr",
          "text": [
            "Processing NoDR: 100%|██████████| 1317/1317 [01:20<00:00, 16.34it/s]\n",
            "Processing NoDR: 100%|██████████| 16/16 [00:04<00:00,  3.92it/s]\n",
            "Processing NoDR: 100%|██████████| 6041/6041 [04:48<00:00, 20.91it/s]\n",
            "Processing NoDR: 100%|██████████| 150/150 [00:04<00:00, 36.10it/s]\n",
            "Processing NoDR: 100%|██████████| 17655/17655 [27:11<00:00, 10.82it/s]"
          ]
        },
        {
          "output_type": "stream",
          "name": "stdout",
          "text": [
            "\n",
            "✅ Done! Total images copied to All_DR_Images: 25179\n"
          ]
        },
        {
          "output_type": "stream",
          "name": "stderr",
          "text": [
            "\n"
          ]
        }
      ]
    },
    {
      "cell_type": "code",
      "source": [
        "import os\n",
        "\n",
        "# === Folders to count ===\n",
        "folders = {\n",
        "    \"DR\": \"/content/drive/MyDrive/EECE 490 Project/All_DR_Images\",\n",
        "    \"NoDR\": \"/content/drive/MyDrive/EECE 490 Project/All_NoDR_Images\"\n",
        "}\n",
        "\n",
        "# === File extensions considered as images\n",
        "image_extensions = ('.jpg', '.jpeg', '.png')\n",
        "\n",
        "# === Count images per folder\n",
        "for label, path in folders.items():\n",
        "    if not os.path.exists(path):\n",
        "        print(f\"⚠️ Folder not found: {path}\")\n",
        "        continue\n",
        "\n",
        "    count = sum(1 for f in os.listdir(path) if f.lower().endswith(image_extensions))\n",
        "    print(f\"📂 {label} folder contains: {count} images\")\n"
      ],
      "metadata": {
        "colab": {
          "base_uri": "https://localhost:8080/"
        },
        "id": "lSyeZwuZfUFc",
        "outputId": "750ae4fa-1604-4bed-c087-ae3b7e59fc0e"
      },
      "execution_count": null,
      "outputs": [
        {
          "output_type": "stream",
          "name": "stdout",
          "text": [
            "📂 DR folder contains: 11061 images\n",
            "📂 NoDR folder contains: 25179 images\n"
          ]
        }
      ]
    },
    {
      "cell_type": "code",
      "source": [
        "import os\n",
        "from PIL import Image\n",
        "from tqdm import tqdm\n",
        "\n",
        "# === Input and output folders mapping ===\n",
        "folder_map = {\n",
        "    \"DR\": \"/content/drive/MyDrive/EECE 490 Project/All_DR_Images\",\n",
        "    \"NoDR\": \"/content/drive/MyDrive/EECE 490 Project/All_NoDR_Images\"\n",
        "}\n",
        "\n",
        "# === Output base folder ===\n",
        "output_base = \"/content/drive/MyDrive/EECE 490 Project\"\n",
        "\n",
        "# === Process each folder ===\n",
        "for label, input_folder in folder_map.items():\n",
        "    print(f\"🔄 Converting and renaming images in: {input_folder}\")\n",
        "\n",
        "    output_folder = os.path.join(output_base, f\"All_{label}_Images_Processed\")\n",
        "    os.makedirs(output_folder, exist_ok=True)\n",
        "\n",
        "    # List and sort valid image files\n",
        "    files = sorted([f for f in os.listdir(input_folder) if f.lower().endswith(('.jpg', '.jpeg', '.png'))])\n",
        "\n",
        "    for idx, fname in enumerate(tqdm(files)):\n",
        "        input_path = os.path.join(input_folder, fname)\n",
        "        try:\n",
        "            img = Image.open(input_path).convert(\"RGB\")\n",
        "            outname = f\"image{idx:05d}.png\"\n",
        "            outpath = os.path.join(output_folder, outname)\n",
        "            img.save(outpath, \"PNG\")\n",
        "        except Exception as e:\n",
        "            print(f\"⚠️ Failed to process {fname}: {e}\")\n",
        "\n",
        "    print(f\"✅ {len(files)} images saved to: {output_folder}\")\n",
        "\n",
        "print(\"🎉 All processing complete!\")\n"
      ],
      "metadata": {
        "colab": {
          "base_uri": "https://localhost:8080/"
        },
        "id": "P0NASEeKho9D",
        "outputId": "48e7b2e8-16c1-4108-fabf-15e149a887dd"
      },
      "execution_count": null,
      "outputs": [
        {
          "output_type": "stream",
          "name": "stdout",
          "text": [
            "🔄 Converting and renaming images in: /content/drive/MyDrive/EECE 490 Project/All_DR_Images\n"
          ]
        },
        {
          "output_type": "stream",
          "name": "stderr",
          "text": [
            "100%|██████████| 11061/11061 [45:14<00:00,  4.07it/s]\n"
          ]
        },
        {
          "output_type": "stream",
          "name": "stdout",
          "text": [
            "✅ 11061 images saved to: /content/drive/MyDrive/EECE 490 Project/All_DR_Images_Processed\n",
            "🔄 Converting and renaming images in: /content/drive/MyDrive/EECE 490 Project/All_NoDR_Images\n"
          ]
        },
        {
          "output_type": "stream",
          "name": "stderr",
          "text": [
            "100%|██████████| 25179/25179 [1:13:48<00:00,  5.69it/s]\n"
          ]
        },
        {
          "output_type": "stream",
          "name": "stdout",
          "text": [
            "✅ 25179 images saved to: /content/drive/MyDrive/EECE 490 Project/All_NoDR_Images_Processed\n",
            "🎉 All processing complete!\n"
          ]
        }
      ]
    },
    {
      "cell_type": "code",
      "source": [
        "import os\n",
        "from PIL import Image\n",
        "\n",
        "folder = \"/content/drive/MyDrive/EECE 490 Project/All_DR_Images_Processed\"\n",
        "sample = os.listdir(folder)[0]\n",
        "img = Image.open(os.path.join(folder, sample))\n",
        "print(\"✅ Format:\", img.mode)\n",
        "print(\"✅ Size:\", img.size)\n"
      ],
      "metadata": {
        "colab": {
          "base_uri": "https://localhost:8080/"
        },
        "id": "wCNFzElNvIAi",
        "outputId": "85724ccc-c36d-4b68-cbbc-c2f394bf6c40"
      },
      "execution_count": null,
      "outputs": [
        {
          "output_type": "stream",
          "name": "stdout",
          "text": [
            "✅ Format: RGB\n",
            "✅ Size: (512, 512)\n"
          ]
        }
      ]
    },
    {
      "cell_type": "code",
      "source": [
        "import os\n",
        "from PIL import Image\n",
        "\n",
        "folder = \"/content/drive/MyDrive/EECE 490 Project/All_NoDR_Images_Processed\"\n",
        "sample = os.listdir(folder)[0]\n",
        "img = Image.open(os.path.join(folder, sample))\n",
        "print(\"✅ Format:\", img.mode)\n",
        "print(\"✅ Size:\", img.size)\n"
      ],
      "metadata": {
        "colab": {
          "base_uri": "https://localhost:8080/"
        },
        "id": "qc4ijJAMvIio",
        "outputId": "1586bac6-fea6-4aa3-9b34-498ac0301bed"
      },
      "execution_count": null,
      "outputs": [
        {
          "output_type": "stream",
          "name": "stdout",
          "text": [
            "✅ Format: RGB\n",
            "✅ Size: (512, 512)\n"
          ]
        }
      ]
    },
    {
      "cell_type": "code",
      "source": [
        "import os\n",
        "from PIL import Image\n",
        "from tqdm import tqdm\n",
        "\n",
        "# === Input and output folders mapping ===\n",
        "folder_map = {\n",
        "    \"DR\": \"/content/drive/MyDrive/EECE 490 Project/All_DR_Images\",\n",
        "    \"NoDR\": \"/content/drive/MyDrive/EECE 490 Project/All_NoDR_Images\"\n",
        "}\n",
        "\n",
        "# === Output base folder ===\n",
        "output_base = \"/content/drive/MyDrive/EECE 490 Project\"\n",
        "\n",
        "# === Load and balance ===\n",
        "image_lists = {}\n",
        "min_len = float(\"inf\")\n",
        "\n",
        "# Step 1: Collect files & determine min count\n",
        "for label, input_folder in folder_map.items():\n",
        "    files = sorted([f for f in os.listdir(input_folder) if f.lower().endswith(('.jpg', '.jpeg', '.png'))])\n",
        "    image_lists[label] = files\n",
        "    min_len = min(min_len, len(files))\n",
        "\n",
        "print(f\"📊 Balancing dataset to {min_len} images per class\")\n",
        "\n",
        "# Step 2: Process and save balanced set\n",
        "for label, input_folder in folder_map.items():\n",
        "    print(f\"🔄 Processing {label} images...\")\n",
        "\n",
        "    output_folder = os.path.join(output_base, f\"All_{label}_Images_Processed_Balanced\")\n",
        "    os.makedirs(output_folder, exist_ok=True)\n",
        "\n",
        "    selected_files = image_lists[label][:min_len]\n",
        "\n",
        "    for idx, fname in enumerate(tqdm(selected_files)):\n",
        "        input_path = os.path.join(input_folder, fname)\n",
        "        try:\n",
        "            img = Image.open(input_path).convert(\"RGB\")\n",
        "            outname = f\"image{idx:05d}.png\"\n",
        "            outpath = os.path.join(output_folder, outname)\n",
        "            img.save(outpath, \"PNG\")\n",
        "        except Exception as e:\n",
        "            print(f\"⚠️ Failed to process {fname}: {e}\")\n",
        "\n",
        "    print(f\"✅ {len(selected_files)} images saved to: {output_folder}\")\n",
        "\n",
        "print(\"🎉 All balanced processing complete!\")\n"
      ],
      "metadata": {
        "colab": {
          "base_uri": "https://localhost:8080/"
        },
        "id": "XTVpjF31vvK0",
        "outputId": "2f49669f-3b65-44d9-8366-e24b7361c963"
      },
      "execution_count": null,
      "outputs": [
        {
          "metadata": {
            "tags": null
          },
          "name": "stdout",
          "output_type": "stream",
          "text": [
            "📊 Balancing dataset to 11061 images per class\n",
            "🔄 Processing DR images...\n"
          ]
        },
        {
          "output_type": "stream",
          "name": "stderr",
          "text": [
            "100%|██████████| 11061/11061 [32:26<00:00,  5.68it/s]\n"
          ]
        },
        {
          "output_type": "stream",
          "name": "stdout",
          "text": [
            "✅ 11061 images saved to: /content/drive/MyDrive/EECE 490 Project/All_DR_Images_Processed_Balanced\n",
            "🔄 Processing NoDR images...\n"
          ]
        },
        {
          "output_type": "stream",
          "name": "stderr",
          "text": [
            "100%|██████████| 11061/11061 [28:08<00:00,  6.55it/s]"
          ]
        },
        {
          "output_type": "stream",
          "name": "stdout",
          "text": [
            "✅ 11061 images saved to: /content/drive/MyDrive/EECE 490 Project/All_NoDR_Images_Processed_Balanced\n",
            "🎉 All balanced processing complete!\n"
          ]
        },
        {
          "output_type": "stream",
          "name": "stderr",
          "text": [
            "\n"
          ]
        }
      ]
    },
    {
      "cell_type": "code",
      "source": [
        "import os\n",
        "\n",
        "# Paths to your balanced folders\n",
        "base_dir = \"/content/drive/MyDrive/EECE 490 Project\"\n",
        "dr_path = os.path.join(base_dir, \"All_DR_Images_Processed_Balanced\")\n",
        "nodr_path = os.path.join(base_dir, \"All_NoDR_Images_Processed_Balanced\")\n",
        "\n",
        "# Count .png files\n",
        "dr_count = len([f for f in os.listdir(dr_path) if f.lower().endswith(\".png\")])\n",
        "nodr_count = len([f for f in os.listdir(nodr_path) if f.lower().endswith(\".png\")])\n",
        "\n",
        "print(f\"🧮 DR images count:   {dr_count}\")\n",
        "print(f\"🧮 NoDR images count: {nodr_count}\")\n",
        "\n",
        "if dr_count == nodr_count:\n",
        "    print(\"✅ Folders are balanced!\")\n",
        "else:\n",
        "    print(\"⚠️ Folders are NOT balanced.\")\n"
      ],
      "metadata": {
        "colab": {
          "base_uri": "https://localhost:8080/"
        },
        "id": "KNt56uEtv304",
        "outputId": "7a434d56-e530-47aa-cb85-d23e59bf0da5"
      },
      "execution_count": null,
      "outputs": [
        {
          "output_type": "stream",
          "name": "stdout",
          "text": [
            "🧮 DR images count:   11061\n",
            "🧮 NoDR images count: 11061\n",
            "✅ Folders are balanced!\n"
          ]
        }
      ]
    }
  ]
}