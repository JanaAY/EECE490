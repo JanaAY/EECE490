{
  "nbformat": 4,
  "nbformat_minor": 0,
  "metadata": {
    "colab": {
      "provenance": []
    },
    "kernelspec": {
      "name": "python3",
      "display_name": "Python 3"
    },
    "language_info": {
      "name": "python"
    }
  },
  "cells": [
    {
      "cell_type": "code",
      "execution_count": null,
      "metadata": {
        "id": "CM9_lLBAZvRC"
      },
      "outputs": [],
      "source": [
        "import shutil\n",
        "\n",
        "from google.colab import drive\n",
        "drive.mount('/content/drive', force_remount=True)\n"
      ]
    },
    {
      "cell_type": "code",
      "source": [
        "import os\n",
        "import shutil\n",
        "from tqdm import tqdm\n",
        "\n",
        "# === Source DR folders ===\n",
        "dr_folders = [\n",
        "    \"/content/drive/MyDrive/EECE 490 Project/Aptos/Unbalanced_Split_train/DR\",\n",
        "    \"/content/drive/MyDrive/EECE 490 Project/RandSet2/Unbalanced_Split/DR\",\n",
        "    \"/content/drive/MyDrive/EECE 490 Project/DDR dataset/Unbalanced_Split/DR\",\n",
        "    \"/content/drive/MyDrive/EECE 490 Project/Messidor2/Unbalanced_Split/DR\",\n",
        "    \"/content/drive/MyDrive/EECE 490 Project/EyePac/Unbalanced_Split/DR\"\n",
        "]\n",
        "\n",
        "# === Destination folder ===\n",
        "all_dr_dir = \"/content/drive/MyDrive/EECE 490 Project/All_DR_Images\"\n",
        "os.makedirs(all_dr_dir, exist_ok=True)\n",
        "\n",
        "# === Track names to avoid overwriting ===\n",
        "existing = set(os.listdir(all_dr_dir))\n",
        "conflict_counter = 0\n",
        "total_copied = 0\n",
        "\n",
        "# === Copy images from all folders ===\n",
        "for folder in dr_folders:\n",
        "    for fname in tqdm(os.listdir(folder), desc=f\"Processing {os.path.basename(folder)}\"):\n",
        "        src = os.path.join(folder, fname)\n",
        "        if not os.path.isfile(src):\n",
        "            continue\n",
        "\n",
        "        # If filename already exists, modify it to avoid overwrite\n",
        "        target_name = fname\n",
        "        while target_name in existing:\n",
        "            name, ext = os.path.splitext(fname)\n",
        "            conflict_counter += 1\n",
        "            target_name = f\"{name}_dup{conflict_counter}{ext}\"\n",
        "\n",
        "        dst = os.path.join(all_dr_dir, target_name)\n",
        "        shutil.copy2(src, dst)\n",
        "        existing.add(target_name)\n",
        "        total_copied += 1\n",
        "\n",
        "print(f\"\\n✅ Done! Total images copied to All_DR_Images: {total_copied}\")\n"
      ],
      "metadata": {
        "id": "_qhqbIVwbPNc"
      },
      "execution_count": null,
      "outputs": []
    },
    {
      "cell_type": "code",
      "source": [
        "import os\n",
        "import shutil\n",
        "from tqdm import tqdm\n",
        "\n",
        "# === Source DR folders ===\n",
        "dr_folders = [\n",
        "    \"/content/drive/MyDrive/EECE 490 Project/Aptos/Unbalanced_Split_train/NoDR\",\n",
        "    \"/content/drive/MyDrive/EECE 490 Project/RandSet2/Unbalanced_Split/NoDR\",\n",
        "    \"/content/drive/MyDrive/EECE 490 Project/DDR dataset/Unbalanced_Split/NoDR\",\n",
        "    \"/content/drive/MyDrive/EECE 490 Project/Messidor2/Unbalanced_Split/NoDR\",\n",
        "    \"/content/drive/MyDrive/EECE 490 Project/EyePac/Unbalanced_Split/NoDR\"\n",
        "]\n",
        "\n",
        "# === Destination folder ===\n",
        "all_dr_dir = \"/content/drive/MyDrive/EECE 490 Project/All_NoDR_Images\"\n",
        "os.makedirs(all_dr_dir, exist_ok=True)\n",
        "\n",
        "# === Track names to avoid overwriting ===\n",
        "existing = set(os.listdir(all_dr_dir))\n",
        "conflict_counter = 0\n",
        "total_copied = 0\n",
        "\n",
        "# === Copy images from all folders ===\n",
        "for folder in dr_folders:\n",
        "    for fname in tqdm(os.listdir(folder), desc=f\"Processing {os.path.basename(folder)}\"):\n",
        "        src = os.path.join(folder, fname)\n",
        "        if not os.path.isfile(src):\n",
        "            continue\n",
        "\n",
        "        # If filename already exists, modify it to avoid overwrite\n",
        "        target_name = fname\n",
        "        while target_name in existing:\n",
        "            name, ext = os.path.splitext(fname)\n",
        "            conflict_counter += 1\n",
        "            target_name = f\"{name}_dup{conflict_counter}{ext}\"\n",
        "\n",
        "        dst = os.path.join(all_dr_dir, target_name)\n",
        "        shutil.copy2(src, dst)\n",
        "        existing.add(target_name)\n",
        "        total_copied += 1\n",
        "\n",
        "print(f\"\\n✅ Done! Total images copied to All_DR_Images: {total_copied}\")\n"
      ],
      "metadata": {
        "id": "aGa1JvdVeiAX"
      },
      "execution_count": null,
      "outputs": []
    },
    {
      "cell_type": "code",
      "source": [
        "import os\n",
        "\n",
        "# === Folders to count ===\n",
        "folders = {\n",
        "    \"DR\": \"/content/drive/MyDrive/EECE 490 Project/All_DR_Images\",\n",
        "    \"NoDR\": \"/content/drive/MyDrive/EECE 490 Project/All_NoDR_Images\"\n",
        "}\n",
        "\n",
        "# === File extensions considered as images\n",
        "image_extensions = ('.jpg', '.jpeg', '.png')\n",
        "\n",
        "# === Count images per folder\n",
        "for label, path in folders.items():\n",
        "    if not os.path.exists(path):\n",
        "        print(f\"⚠️ Folder not found: {path}\")\n",
        "        continue\n",
        "\n",
        "    count = sum(1 for f in os.listdir(path) if f.lower().endswith(image_extensions))\n",
        "    print(f\"📂 {label} folder contains: {count} images\")\n"
      ],
      "metadata": {
        "id": "lSyeZwuZfUFc"
      },
      "execution_count": null,
      "outputs": []
    },
    {
      "cell_type": "code",
      "source": [
        "import os\n",
        "from PIL import Image\n",
        "from tqdm import tqdm\n",
        "\n",
        "# === Input and output folders mapping ===\n",
        "folder_map = {\n",
        "    \"DR\": \"/content/drive/MyDrive/EECE 490 Project/All_DR_Images\",\n",
        "    \"NoDR\": \"/content/drive/MyDrive/EECE 490 Project/All_NoDR_Images\"\n",
        "}\n",
        "\n",
        "# === Output base folder ===\n",
        "output_base = \"/content/drive/MyDrive/EECE 490 Project\"\n",
        "\n",
        "# === Process each folder ===\n",
        "for label, input_folder in folder_map.items():\n",
        "    print(f\"🔄 Converting and renaming images in: {input_folder}\")\n",
        "\n",
        "    output_folder = os.path.join(output_base, f\"All_{label}_Images_Processed\")\n",
        "    os.makedirs(output_folder, exist_ok=True)\n",
        "\n",
        "    # List and sort valid image files\n",
        "    files = sorted([f for f in os.listdir(input_folder) if f.lower().endswith(('.jpg', '.jpeg', '.png'))])\n",
        "\n",
        "    for idx, fname in enumerate(tqdm(files)):\n",
        "        input_path = os.path.join(input_folder, fname)\n",
        "        try:\n",
        "            img = Image.open(input_path).convert(\"RGB\")\n",
        "            outname = f\"image{idx:05d}.png\"\n",
        "            outpath = os.path.join(output_folder, outname)\n",
        "            img.save(outpath, \"PNG\")\n",
        "        except Exception as e:\n",
        "            print(f\"⚠️ Failed to process {fname}: {e}\")\n",
        "\n",
        "    print(f\"✅ {len(files)} images saved to: {output_folder}\")\n",
        "\n",
        "print(\"🎉 All processing complete!\")\n"
      ],
      "metadata": {
        "id": "P0NASEeKho9D"
      },
      "execution_count": null,
      "outputs": []
    },
    {
      "cell_type": "code",
      "source": [
        "import os\n",
        "from PIL import Image\n",
        "\n",
        "folder = \"/content/drive/MyDrive/EECE 490 Project/All_DR_Images_Processed\"\n",
        "sample = os.listdir(folder)[0]\n",
        "img = Image.open(os.path.join(folder, sample))\n",
        "print(\"✅ Format:\", img.mode)\n",
        "print(\"✅ Size:\", img.size)\n"
      ],
      "metadata": {
        "id": "wCNFzElNvIAi"
      },
      "execution_count": null,
      "outputs": []
    },
    {
      "cell_type": "code",
      "source": [
        "import os\n",
        "from PIL import Image\n",
        "\n",
        "folder = \"/content/drive/MyDrive/EECE 490 Project/All_NoDR_Images_Processed\"\n",
        "sample = os.listdir(folder)[0]\n",
        "img = Image.open(os.path.join(folder, sample))\n",
        "print(\"✅ Format:\", img.mode)\n",
        "print(\"✅ Size:\", img.size)\n"
      ],
      "metadata": {
        "id": "qc4ijJAMvIio"
      },
      "execution_count": null,
      "outputs": []
    },
    {
      "cell_type": "code",
      "source": [
        "import os\n",
        "from PIL import Image\n",
        "from tqdm import tqdm\n",
        "\n",
        "# === Input and output folders mapping ===\n",
        "folder_map = {\n",
        "    \"DR\": \"/content/drive/MyDrive/EECE 490 Project/All_DR_Images\",\n",
        "    \"NoDR\": \"/content/drive/MyDrive/EECE 490 Project/All_NoDR_Images\"\n",
        "}\n",
        "\n",
        "# === Output base folder ===\n",
        "output_base = \"/content/drive/MyDrive/EECE 490 Project\"\n",
        "\n",
        "# === Load and balance ===\n",
        "image_lists = {}\n",
        "min_len = float(\"inf\")\n",
        "\n",
        "# Step 1: Collect files & determine min count\n",
        "for label, input_folder in folder_map.items():\n",
        "    files = sorted([f for f in os.listdir(input_folder) if f.lower().endswith(('.jpg', '.jpeg', '.png'))])\n",
        "    image_lists[label] = files\n",
        "    min_len = min(min_len, len(files))\n",
        "\n",
        "print(f\"📊 Balancing dataset to {min_len} images per class\")\n",
        "\n",
        "# Step 2: Process and save balanced set\n",
        "for label, input_folder in folder_map.items():\n",
        "    print(f\"🔄 Processing {label} images...\")\n",
        "\n",
        "    output_folder = os.path.join(output_base, f\"All_{label}_Images_Processed_Balanced\")\n",
        "    os.makedirs(output_folder, exist_ok=True)\n",
        "\n",
        "    selected_files = image_lists[label][:min_len]\n",
        "\n",
        "    for idx, fname in enumerate(tqdm(selected_files)):\n",
        "        input_path = os.path.join(input_folder, fname)\n",
        "        try:\n",
        "            img = Image.open(input_path).convert(\"RGB\")\n",
        "            outname = f\"image{idx:05d}.png\"\n",
        "            outpath = os.path.join(output_folder, outname)\n",
        "            img.save(outpath, \"PNG\")\n",
        "        except Exception as e:\n",
        "            print(f\"⚠️ Failed to process {fname}: {e}\")\n",
        "\n",
        "    print(f\"✅ {len(selected_files)} images saved to: {output_folder}\")\n",
        "\n",
        "print(\"🎉 All balanced processing complete!\")\n"
      ],
      "metadata": {
        "id": "XTVpjF31vvK0"
      },
      "execution_count": null,
      "outputs": []
    },
    {
      "cell_type": "code",
      "source": [
        "import os\n",
        "\n",
        "# Paths to your balanced folders\n",
        "base_dir = \"/content/drive/MyDrive/EECE 490 Project\"\n",
        "dr_path = os.path.join(base_dir, \"All_DR_Images_Processed_Balanced\")\n",
        "nodr_path = os.path.join(base_dir, \"All_NoDR_Images_Processed_Balanced\")\n",
        "\n",
        "# Count .png files\n",
        "dr_count = len([f for f in os.listdir(dr_path) if f.lower().endswith(\".png\")])\n",
        "nodr_count = len([f for f in os.listdir(nodr_path) if f.lower().endswith(\".png\")])\n",
        "\n",
        "print(f\"🧮 DR images count:   {dr_count}\")\n",
        "print(f\"🧮 NoDR images count: {nodr_count}\")\n",
        "\n",
        "if dr_count == nodr_count:\n",
        "    print(\"✅ Folders are balanced!\")\n",
        "else:\n",
        "    print(\"⚠️ Folders are NOT balanced.\")\n"
      ],
      "metadata": {
        "id": "KNt56uEtv304"
      },
      "execution_count": null,
      "outputs": []
    }
  ]
}